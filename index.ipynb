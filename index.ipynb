{
 "cells": [
  {
   "cell_type": "markdown",
   "metadata": {},
   "source": [
    "# Python Machine Learning Specialization\n",
    "\n",
    "* [Introduction](01-intro/index.ipynb)\n",
    "* [Machine Learning Tasks](02-tasks/index.ipynb)\n",
    "* [Data and types](03-data/index.ipynb)\n",
    "* [Machine Learning Models](04-models/index.ipynb)\n",
    "* [Feature Engineering](05-features/index.ipynb)\n",
    "* [Regression](06-regression/index.ipynb)\n",
    "* [Classification](07-classification/index.ipynb)\n",
    "* [Clustering](08-clustering/index.ipynb)\n",
    "* [Anomaly Detection](09-anomaly-detection/index.ipynb)\n",
    "* [Deep Q-Learning](10-deep-q-learning/index.ipynb)\n",
    "* [Dimensionality Reduction](11-dimensionality-reduction/index.ipynb)\n",
    "* [Neural Networks](12-neural-networks/index.ipynb)\n",
    "* [Natural Language Processing](13-natural-language-processing/index.ipynb)\n",
    "* [Computer Vision](14-computer-vision/index.ipynb)\n",
    "* [Extras](15-xtras/index.ipynb)"
   ]
  },
  {
   "cell_type": "code",
   "execution_count": null,
   "metadata": {},
   "outputs": [],
   "source": []
  }
 ],
 "metadata": {
  "kernelspec": {
   "display_name": "Python 3.10.6 ('mlx')",
   "language": "python",
   "name": "python3"
  },
  "language_info": {
   "name": "python",
   "version": "3.10.6"
  },
  "orig_nbformat": 4,
  "vscode": {
   "interpreter": {
    "hash": "4ea7dd683ad3989c9acf43b2110a0915f0e0607f4ae017ada7681046b918478b"
   }
  }
 },
 "nbformat": 4,
 "nbformat_minor": 2
}
