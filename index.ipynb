{
 "cells": [
  {
   "cell_type": "markdown",
   "metadata": {},
   "source": [
    "# Natural Language Processing Specialization\n",
    "\n",
    "* [Introduction](01-intro/index.ipynb)\n",
    "* [Information retrieval](02-info-retrieval/index.ipynb)\n",
    "* [Text Processing](03-text-processing/index.ipynb)\n",
    "* [Writing Simple Programs](04-programs/index.ipynb)\n",
    "* [Part of speech Tagging](05-pos-tagging/index.ipynb)\n",
    "* [Text Classification](06-classification/index.ipynb)\n",
    "* [Information Extraction ](07-extracting-info/index.ipynb)\n",
    "* [Sentences Analysis](08-sentences/index.ipynb)\n",
    "* [Feature Engineering ](09-feature-engineering/index.ipynb)\n",
    "* [Semantic Analysis](10-semantic-analysis/index.ipynb)\n",
    "* [Language Modelling](11-modelling/index.ipynb)\n",
    "* [Understanding Morphology](12-morphology/index.ipynb)"
   ]
  }
 ],
 "metadata": {
  "kernelspec": {
   "display_name": "Python 3.10.6 ('mlx')",
   "language": "python",
   "name": "python3"
  },
  "language_info": {
   "name": "python",
   "version": "3.10.6"
  },
  "orig_nbformat": 4,
  "vscode": {
   "interpreter": {
    "hash": "4ea7dd683ad3989c9acf43b2110a0915f0e0607f4ae017ada7681046b918478b"
   }
  }
 },
 "nbformat": 4,
 "nbformat_minor": 2
}
