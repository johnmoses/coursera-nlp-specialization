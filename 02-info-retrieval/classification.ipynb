{
 "cells": [
  {
   "cell_type": "markdown",
   "metadata": {},
   "source": [
    "# Text Classification\n",
    "\n",
    "Text classification is the ability of the machine to identify patterns in words and place them in categories or clusters\n",
    "\n",
    "- Supervised classification\n",
    "- Sequence classification\n",
    "- Creating Test Sets\n",
    "- Decission Trees\n",
    "- Naive Baye's classifier\n",
    "- Other classifiers"
   ]
  },
  {
   "cell_type": "code",
   "execution_count": null,
   "metadata": {},
   "outputs": [],
   "source": []
  }
 ],
 "metadata": {
  "kernelspec": {
   "display_name": "Python 3.9.13 ('tfl')",
   "language": "python",
   "name": "python3"
  },
  "language_info": {
   "name": "python",
   "version": "3.9.13"
  },
  "orig_nbformat": 4,
  "vscode": {
   "interpreter": {
    "hash": "3afd40095495c563cc7696f1b79a470a4f77d1316a9415bb575fc3f2c9a7e2ec"
   }
  }
 },
 "nbformat": 4,
 "nbformat_minor": 2
}
