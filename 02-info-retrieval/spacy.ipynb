{
 "cells": [
  {
   "cell_type": "markdown",
   "metadata": {},
   "source": [
    "# Spacy"
   ]
  },
  {
   "cell_type": "code",
   "execution_count": 1,
   "metadata": {},
   "outputs": [
    {
     "name": "stdout",
     "output_type": "stream",
     "text": [
      "['Boris Johnson']\n"
     ]
    }
   ],
   "source": [
    "# Understanding the task\n",
    "\n",
    "meetings = [\n",
    "    ('Boris Johnson', 'meets with', 'the Queen'),\n",
    "    ('Donald Trump', 'meets with', 'his cabinet'),\n",
    "    ('administration', 'meets with', 'tech giants'),\n",
    "    ('the Queen', 'meets with', 'the Prime Minister'),\n",
    "    ('Donald Trump', 'meets with', 'Finnish President')\n",
    "]\n",
    "# query = [p2 for (p1, act, p2) in meetings if p1 == 'Donald Trump']\n",
    "query = [p2 for (p1, act, p2) in meetings if p1 == 'the Queen']\n",
    "query = [p1 for (p1, act, p2) in meetings if p2 == 'the Queen']\n",
    "print(query)"
   ]
  },
  {
   "cell_type": "code",
   "execution_count": 14,
   "metadata": {},
   "outputs": [
    {
     "name": "stdout",
     "output_type": "stream",
     "text": [
      " word         Position  Lowercase    Lema         POS    Alphanumeric  Stopword \n",
      " On           0         on           on           ADP    True          True     \n",
      " Friday       1         friday       Friday       PROPN  True          False    \n",
      " board        2         board        board        NOUN   True          False    \n",
      " members      3         members      member       NOUN   True          False    \n",
      " met          4         met          meet         VERB   True          False    \n",
      " with         5         with         with         ADP    True          True     \n",
      " senor        6         senor        senor        PROPN  True          False    \n",
      " managersto   7         managersto   managersto   PROPN  True          False    \n",
      " discus       8         discus       discus       PROPN  True          False    \n",
      " future       9         future       future       ADJ    True          False    \n",
      " develomment  10        develomment  develomment  NOUN   True          False    \n",
      " of           11        of           of           ADP    True          True     \n",
      " the          12        the          the          DET    True          True     \n",
      " company      13        company      company      NOUN   True          False    \n"
     ]
    }
   ],
   "source": [
    "# starting with spacy\n",
    "\n",
    "import spacy\n",
    "\n",
    "nlp = spacy.load(\"en_core_web_sm\")\n",
    "doc = nlp(\"On Friday board members met with senor managers\" + \n",
    "        \"to discus future develomment of the company\")\n",
    "\n",
    "rows = []\n",
    "rows.append([\"word\", \"Position\", \"Lowercase\",\"Lema\",\"POS\", \"Alphanumeric\", \"Stopword\"])\n",
    "for token in doc:\n",
    "    rows.append([token.text, str(token.i), token.lower_, token.lemma_, \n",
    "        token.pos_, str(token.is_alpha), str(token.is_stop)])\n",
    "columns = zip(*rows)\n",
    "column_widths = [max(len(item) for item in col) for col in columns]\n",
    "for row in rows:\n",
    "    print(''.join(' {:{width}} '.format(row[i], width=column_widths[i])\n",
    "        for i in range(0, len(row))))"
   ]
  }
 ],
 "metadata": {
  "kernelspec": {
   "display_name": "Python 3.9.13 ('tfl')",
   "language": "python",
   "name": "python3"
  },
  "language_info": {
   "codemirror_mode": {
    "name": "ipython",
    "version": 3
   },
   "file_extension": ".py",
   "mimetype": "text/x-python",
   "name": "python",
   "nbconvert_exporter": "python",
   "pygments_lexer": "ipython3",
   "version": "3.9.13"
  },
  "orig_nbformat": 4,
  "vscode": {
   "interpreter": {
    "hash": "3afd40095495c563cc7696f1b79a470a4f77d1316a9415bb575fc3f2c9a7e2ec"
   }
  }
 },
 "nbformat": 4,
 "nbformat_minor": 2
}
