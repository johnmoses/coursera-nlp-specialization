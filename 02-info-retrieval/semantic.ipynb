{
 "cells": [
  {
   "cell_type": "markdown",
   "metadata": {},
   "source": [
    "# Semantic Analysis\n",
    "\n",
    "Here we will focus on generating meaning.\n",
    "\n",
    "- Named Entity Recognition (NER) system\n",
    "- NER with HMR\n",
    "- NER with POS tagging"
   ]
  },
  {
   "cell_type": "markdown",
   "metadata": {},
   "source": [
    "## Named Entity Recognition (NER)\n",
    "\n",
    "Semantics analysis is an important component in language processing. It lies heavily on building the structure of sentence. A few terminologies need to be highlighted here\n",
    "\n",
    "Semantic interpretation is the process of mapping meaning to a sentence."
   ]
  },
  {
   "cell_type": "code",
   "execution_count": 1,
   "metadata": {},
   "outputs": [
    {
     "name": "stdout",
     "output_type": "stream",
     "text": [
      "negation       \t-\n",
      "conjunction    \t&\n",
      "disjunction    \t|\n",
      "implication    \t->\n",
      "equivalence    \t<->\n"
     ]
    }
   ],
   "source": [
    "import nltk\n",
    "\n",
    "nltk.boolean_ops()"
   ]
  },
  {
   "cell_type": "markdown",
   "metadata": {},
   "source": [
    "Well-formed Formulas (WFF) can be formed by using one or combining more than one of the propositional symbols and boolean operators. Let's categorize expressions into various classes"
   ]
  },
  {
   "cell_type": "code",
   "execution_count": 2,
   "metadata": {},
   "outputs": [
    {
     "name": "stdout",
     "output_type": "stream",
     "text": [
      "(X | (Y -> Z))\n",
      "-(X & Y)\n",
      "(X & Y)\n",
      "(X <-> --X)\n"
     ]
    }
   ],
   "source": [
    "import nltk\n",
    "\n",
    "expr = nltk.sem.Expression.fromstring\n",
    "print(expr('X | (Y -> Z)'))\n",
    "print(expr('-(X & Y)'))\n",
    "print(expr('X & Y'))\n",
    "print(expr('X <-> -- X'))"
   ]
  },
  {
   "cell_type": "markdown",
   "metadata": {},
   "source": [
    "Map True or False values to logical expressions with Valuation function"
   ]
  },
  {
   "cell_type": "code",
   "execution_count": 3,
   "metadata": {},
   "outputs": [
    {
     "name": "stdout",
     "output_type": "stream",
     "text": [
      "True\n"
     ]
    }
   ],
   "source": [
    "import nltk\n",
    "\n",
    "value = nltk.Valuation([('X', True), ('Y', False), ('Z', True)])\n",
    "print(value['Z'])\n",
    "\n",
    "domain = set()"
   ]
  },
  {
   "cell_type": "code",
   "execution_count": 4,
   "metadata": {},
   "outputs": [],
   "source": [
    "import nltk\n",
    "from nltk import load_parser\n",
    "\n",
    "# nltk.data.show_cfg('grammars/book_grammars/sql1.fcfg')\n"
   ]
  },
  {
   "cell_type": "markdown",
   "metadata": {},
   "source": [
    "## NER with HMR"
   ]
  },
  {
   "cell_type": "markdown",
   "metadata": {},
   "source": [
    "## NER with POS Tagging"
   ]
  }
 ],
 "metadata": {
  "kernelspec": {
   "display_name": "Python 3.9.13 ('tfl')",
   "language": "python",
   "name": "python3"
  },
  "language_info": {
   "codemirror_mode": {
    "name": "ipython",
    "version": 3
   },
   "file_extension": ".py",
   "mimetype": "text/x-python",
   "name": "python",
   "nbconvert_exporter": "python",
   "pygments_lexer": "ipython3",
   "version": "3.9.13"
  },
  "orig_nbformat": 4,
  "vscode": {
   "interpreter": {
    "hash": "3afd40095495c563cc7696f1b79a470a4f77d1316a9415bb575fc3f2c9a7e2ec"
   }
  }
 },
 "nbformat": 4,
 "nbformat_minor": 2
}
