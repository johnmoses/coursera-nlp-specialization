{
 "cells": [
  {
   "cell_type": "markdown",
   "metadata": {},
   "source": [
    "# Example 1"
   ]
  },
  {
   "cell_type": "code",
   "execution_count": 1,
   "metadata": {},
   "outputs": [],
   "source": [
    "# Simple example\n",
    "document = \"meeting ... management ... meeting ... management ... meeting ... management ... meeting ... meeting\"\n",
    "vector = [0,0]"
   ]
  },
  {
   "cell_type": "code",
   "execution_count": 2,
   "metadata": {},
   "outputs": [
    {
     "name": "stdout",
     "output_type": "stream",
     "text": [
      "[3, 5]\n"
     ]
    }
   ],
   "source": [
    "for word in document.split(\" \"):\n",
    "    if word==\"management\":\n",
    "        vector[0] = vector[0] + 1\n",
    "    if word==\"meeting\":\n",
    "        vector[1] = vector[1] + 1\n",
    "\n",
    "print(vector)"
   ]
  },
  {
   "cell_type": "code",
   "execution_count": 3,
   "metadata": {},
   "outputs": [
    {
     "name": "stdout",
     "output_type": "stream",
     "text": [
      "4.47213595499958\n"
     ]
    }
   ],
   "source": [
    "import math\n",
    "\n",
    "query = [1, 1]\n",
    "document = [3, 5]\n",
    "sq_length = 0\n",
    "\n",
    "for index in range(0, len(query)):\n",
    "    sq_length += math.pow((document[index] - query[index]), 2)\n",
    "\n",
    "print(math.sqrt(sq_length))"
   ]
  },
  {
   "cell_type": "code",
   "execution_count": null,
   "metadata": {},
   "outputs": [],
   "source": [
    "# Spam filtering"
   ]
  }
 ],
 "metadata": {
  "kernelspec": {
   "display_name": "Python 3.9.13 ('tfl')",
   "language": "python",
   "name": "python3"
  },
  "language_info": {
   "codemirror_mode": {
    "name": "ipython",
    "version": 3
   },
   "file_extension": ".py",
   "mimetype": "text/x-python",
   "name": "python",
   "nbconvert_exporter": "python",
   "pygments_lexer": "ipython3",
   "version": "3.9.13"
  },
  "orig_nbformat": 4,
  "vscode": {
   "interpreter": {
    "hash": "3afd40095495c563cc7696f1b79a470a4f77d1316a9415bb575fc3f2c9a7e2ec"
   }
  }
 },
 "nbformat": 4,
 "nbformat_minor": 2
}
