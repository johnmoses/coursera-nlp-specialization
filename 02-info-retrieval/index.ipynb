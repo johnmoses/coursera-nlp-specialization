{
 "cells": [
  {
   "cell_type": "markdown",
   "metadata": {},
   "source": [
    "# Natural Language Processing (NLP)\n",
    "\n",
    "- [Introduction](intro.ipynb)\n",
    "- [Accessing text corpora](corpora.ipynb)\n",
    "- [Processing of Raw Text](processing.ipynb)\n",
    "- [Word Tagging](tagging.ipynb)\n",
    "- [Syntax Parsing](parsing.ipynb)\n",
    "- [Text Classification](classification.ipynb)\n",
    "- [Morphology](morphology.ipynb)\n",
    "- [Language Modelling](modelling.ipynb)\n",
    "- [Information Extraction](extraction.ipynb)\n",
    "- [Semantic Analysis](semantic.ipynb)\n",
    "- [Sentiment Analysis](sentiment.ipynb)\n",
    "- [Inferencing](inferencing.ipynb)\n",
    "- [Performance Evaluation](performance.ipynb)"
   ]
  }
 ],
 "metadata": {
  "kernelspec": {
   "display_name": "Python 3.10.6 ('mlx')",
   "language": "python",
   "name": "python3"
  },
  "language_info": {
   "name": "python",
   "version": "3.10.6"
  },
  "orig_nbformat": 4,
  "vscode": {
   "interpreter": {
    "hash": "4ea7dd683ad3989c9acf43b2110a0915f0e0607f4ae017ada7681046b918478b"
   }
  }
 },
 "nbformat": 4,
 "nbformat_minor": 2
}
